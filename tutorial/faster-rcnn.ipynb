{
 "cells": [
  {
   "cell_type": "markdown",
   "metadata": {
    "lines_to_next_cell": 0,
    "region_name": "md",
    "title": "##########################################"
   },
   "source": [
    "# Faster R-CNN (PyTorch)\n",
    "\n",
    "`build Faster R-CNN from scratch`\n",
    "---"
   ]
  },
  {
   "cell_type": "code",
   "execution_count": 81,
   "metadata": {
    "title": "##############################################"
   },
   "outputs": [],
   "source": [
    "import torch\n",
    "import torchvision\n",
    "import torch.nn.functional as F\n",
    "import numpy as np\n",
    "import pylab as plt"
   ]
  },
  {
   "cell_type": "markdown",
   "metadata": {
    "lines_to_next_cell": 0,
    "region_name": "md",
    "title": "##########################################"
   },
   "source": [
    "## 1. Backend CNN\n",
    "`Create a backend CNN based on VGG16`"
   ]
  },
  {
   "cell_type": "code",
   "execution_count": 82,
   "metadata": {
    "title": "###############################################"
   },
   "outputs": [
    {
     "name": "stdout",
     "output_type": "stream",
     "text": [
      "backend CNN based on VGG16 : \n",
      " -------------------- \n",
      " Sequential(\n",
      "  (25): ReLU(inplace=True)\n",
      "  (26): Conv2d(512, 512, kernel_size=(3, 3), stride=(1, 1), padding=(1, 1))\n",
      "  (27): ReLU(inplace=True)\n",
      "  (28): Conv2d(512, 512, kernel_size=(3, 3), stride=(1, 1), padding=(1, 1))\n",
      "  (29): ReLU(inplace=True)\n",
      ")\n"
     ]
    }
   ],
   "source": [
    "# Pass dummy image trough VGG16\n",
    "image = torch.zeros((1, 3, 800, 800)).float()\n",
    "sub_sample = 16 # this is because output of VGG16 downsampling input 16 times\n",
    "\n",
    "dummy_img = torch.zeros((1, 3, 800, 800)).float()\n",
    "\n",
    "# download VGG16 pretrained\n",
    "model = torchvision.models.vgg16(pretrained=True)\n",
    "fe = list(model.features)\n",
    "\n",
    "# trim VGG16\n",
    "req_features = []\n",
    "k = dummy_img.clone()\n",
    "for i in fe:\n",
    "    k = i(k)\n",
    "    if k.size()[2] < 800//16:\n",
    "        break\n",
    "    req_features.append(i)\n",
    "    out_channels = k.size()[1]\n",
    "\n",
    "# this is the backend CNN\n",
    "faster_rcnn_fe_extractor = torch.nn.Sequential(*req_features)\n",
    "\n",
    "# Feature Map\n",
    "out_map = faster_rcnn_fe_extractor(image) # [1,512, 50, 50]\n",
    "print('backend CNN based on VGG16 : \\n', '-'*20, '\\n', faster_rcnn_fe_extractor[-5:])"
   ]
  },
  {
   "cell_type": "markdown",
   "metadata": {
    "lines_to_next_cell": 0,
    "region_name": "md",
    "title": "##########################################"
   },
   "source": [
    " ## 2. Anchor boxes\n",
    "`2.1 -Create anchors for each pixel on feature map`"
   ]
  },
  {
   "cell_type": "code",
   "execution_count": 83,
   "metadata": {
    "title": "###############################################"
   },
   "outputs": [
    {
     "name": "stdout",
     "output_type": "stream",
     "text": [
      "Center pixels in feature map (2500, 2) \n",
      " -------------------- \n",
      " [[728. 792.]\n",
      " [744. 792.]\n",
      " [760. 792.]\n",
      " [776. 792.]\n",
      " [792. 792.]]\n"
     ]
    }
   ],
   "source": [
    "\n",
    "# 9 anchors to pixel\n",
    "ratios = [0.5, 1, 2]\n",
    "anchor_scales = [8, 16, 32]\n",
    "\n",
    "fe_size = (800//16)\n",
    "ctr_x = np.arange(16, (fe_size+1) * 16, 16)\n",
    "ctr_y = np.arange(16, (fe_size+1) * 16, 16)\n",
    "\n",
    "ctr = np.zeros((len(ctr_x) * len(ctr_y), 2), dtype=np.float32)\n",
    "\n",
    "index = 0\n",
    "for x in range(len(ctr_x)):\n",
    "    for y in range(len(ctr_y)):\n",
    "        ctr[index, 1] = ctr_x[x] - 8\n",
    "        ctr[index, 0] = ctr_y[y] - 8\n",
    "        index +=1\n",
    "\n",
    "print('Center pixels in feature map', ctr.shape, '\\n',  '-'*20, '\\n', ctr[-5:])"
   ]
  },
  {
   "cell_type": "markdown",
   "metadata": {
    "lines_to_next_cell": 0,
    "region_name": "md"
   },
   "source": [
    " `2.2 - Generate anchor boxes for all pixels`"
   ]
  },
  {
   "cell_type": "code",
   "execution_count": 84,
   "metadata": {},
   "outputs": [
    {
     "name": "stdout",
     "output_type": "stream",
     "text": [
      "Generated Anchors : (22500, 4) \n",
      " -------------------- \n",
      " [[ 664.          664.          920.          920.        ]\n",
      " [ 536.          536.         1048.         1048.        ]\n",
      " [ 701.49033201  746.745166    882.50966799  837.254834  ]\n",
      " [ 610.98066402  701.49033201  973.01933598  882.50966799]\n",
      " [ 429.96132803  610.98066402 1154.03867197  973.01933598]]\n"
     ]
    }
   ],
   "source": [
    "\n",
    "anchors = np.zeros(((fe_size * fe_size * 9), 4))\n",
    "index = 0\n",
    "for c in ctr:\n",
    "  ctr_y, ctr_x = c\n",
    "  for i in range(len(ratios)):\n",
    "    for j in range(len(anchor_scales)):\n",
    "        h = sub_sample * anchor_scales[j] * np.sqrt(ratios[i])\n",
    "        w = sub_sample * anchor_scales[j] * np.sqrt(1./ ratios[i])\n",
    "        anchors[index, 0] = ctr_y - h / 2.\n",
    "        anchors[index, 1] = ctr_x - w / 2.\n",
    "        anchors[index, 2] = ctr_y + h / 2.\n",
    "        anchors[index, 3] = ctr_x + w / 2.\n",
    "        index += 1\n",
    "\n",
    "print('Generated Anchors :', anchors.shape, '\\n', '-'*20, '\\n', anchors[-5:])"
   ]
  },
  {
   "cell_type": "markdown",
   "metadata": {
    "lines_to_next_cell": 0,
    "region_name": "md"
   },
   "source": [
    "`2.3 - Assign labels to bounding boxes`\n",
    "\n",
    "> (a) The anchor/anchors with the highest Intersection-over-Union(IoU) overlap with a ground-truth-box or \\\n",
    "> (b) An anchor that has an IoU overlap higher than 0.7 with ground-truth box. \\\n",
    "> (c) We assign a negative label to a non-positive anchor if its IoU ratio is lower than 0.3 for all ground-truth boxes. \\\n",
    "> (d) Anchors that are neither positive nor negative do not contribute to the training objective."
   ]
  },
  {
   "cell_type": "code",
   "execution_count": 85,
   "metadata": {
    "lines_to_next_cell": 0
   },
   "outputs": [],
   "source": [
    "# define example ground-truth\n",
    "bbox = np.asarray([[20, 30, 400, 500], [300, 400, 500, 600]], dtype=np.float32) # [y1, x1, y2, x2] format\n",
    "labels = np.asarray([6, 8], dtype=np.int8) # 0 represents background"
   ]
  },
  {
   "cell_type": "code",
   "execution_count": 86,
   "metadata": {
    "title": "###############################################"
   },
   "outputs": [],
   "source": [
    "# valid anchors indexes\n",
    "inside_index = np.where((anchors[:, 0] >= 0) &\n",
    "                        (anchors[:, 1] >= 0) &\n",
    "                        (anchors[:, 2] <= 800) &\n",
    "                        (anchors[:, 3] <= 800)\n",
    "                        )[0]\n",
    "\n",
    "# create label and assign -1 to all\n",
    "label = np.empty((len(inside_index), ), dtype=np.int32)\n",
    "label.fill(-1)\n",
    "\n",
    "# valid anchors\n",
    "valid_anchors = anchors[inside_index]\n",
    "\n",
    "# Calculate IOU between ground-truth and anchor bboxes\n",
    "\n",
    "ious = np.empty((len(valid_anchors), 2), dtype=np.float32)\n",
    "ious.fill(0)\n",
    "\n",
    "for n1, i in enumerate(valid_anchors):\n",
    "    ya1, xa1, ya2, xa2 = i\n",
    "    anchor_area = (ya2 - ya1) * (xa2 -xa1)\n",
    "    for n2, j in enumerate(bbox):\n",
    "        yb1, xb1, yb2, xb2 = j\n",
    "        box_area = (yb2 - yb1) * (xb2 -xb1)\n",
    "\n",
    "        inter_x1 = max([xb1, xa1])\n",
    "        inter_y1 = max([yb1, ya1])\n",
    "        inter_x2 = min([xb2, xa2])\n",
    "        inter_y2 = min([yb2, ya2])\n",
    "\n",
    "        if (inter_x1 < inter_x2) and (inter_y1 < inter_y2):\n",
    "            inter_area = (inter_y2 -inter_y1) * (inter_x2 - inter_x1)\n",
    "            iou = inter_area / (anchor_area + box_area - inter_area)\n",
    "        else:\n",
    "            iou = 0.\n",
    "\n",
    "        ious[n1, n2] = iou\n",
    "\n",
    "gt_argmax_ious = ious.argmax(axis=0) # Tells which ground truth object has max iou with each anchor.\n",
    "gt_max_ious = ious[gt_argmax_ious, np.arange(ious.shape[1])]\n",
    "argmax_ious = ious.argmax(axis=1)\n",
    "max_ious = ious[np.arange(len(inside_index)), argmax_ious] # Tells the max_iou with ground truth object with each anchor.\n",
    "gt_argmax_ious = np.where(ious == gt_max_ious)[0] # Tells the anchors with the highest Intersection-over-Union (IoU) overlap with a ground-truth box."
   ]
  },
  {
   "cell_type": "code",
   "execution_count": 87,
   "metadata": {},
   "outputs": [],
   "source": [
    "# IOU positive and negative thresholds\n",
    "pos_iou_threshold  = 0.7\n",
    "neg_iou_threshold = 0.3"
   ]
  },
  {
   "cell_type": "markdown",
   "metadata": {
    "lines_to_next_cell": 0,
    "region_name": "md"
   },
   "source": [
    " `2.4 - Evaluate conditions (a), (b) and (c)`"
   ]
  },
  {
   "cell_type": "code",
   "execution_count": 88,
   "metadata": {},
   "outputs": [],
   "source": [
    "# Assign negitive label (0) to all the anchor boxes which have max_iou less than negitive threshold [c]\n",
    "label[max_ious < neg_iou_threshold] = 0\n",
    "\n",
    "# Assign positive label (1) to all the anchor boxes which have highest IoU overlap with a ground-truth box [a]\n",
    "label[gt_argmax_ious] = 1\n",
    "\n",
    "# Assign positive label (1) to all the anchor boxes which have max_iou greater than positive threshold [b]\n",
    "label[max_ious >= pos_iou_threshold] = 1"
   ]
  },
  {
   "cell_type": "markdown",
   "metadata": {
    "lines_to_next_cell": 0,
    "region_name": "md"
   },
   "source": [
    "`2.5 - Assign locations to anchor boxes`"
   ]
  },
  {
   "cell_type": "code",
   "execution_count": 89,
   "metadata": {},
   "outputs": [],
   "source": [
    "pos_ratio = 0.5\n",
    "n_sample = 256"
   ]
  },
  {
   "cell_type": "code",
   "execution_count": 90,
   "metadata": {},
   "outputs": [],
   "source": [
    "# positive samples\n",
    "n_pos = pos_ratio * n_sample\n",
    "pos_index = np.where(label == 1)[0]\n",
    "if len(pos_index) > n_pos:\n",
    "    disable_index = np.random.choice(pos_index, size=(len(pos_index) - n_pos), replace=False)\n",
    "    label[disable_index] = -1\n",
    "\n",
    "# negative sample\n",
    "n_neg = n_sample - np.sum(label == 1)\n",
    "neg_index = np.where(label == 0)[0]\n",
    "\n",
    "if len(neg_index) > n_neg:\n",
    "    disable_index = np.random.choice(neg_index, size=(len(neg_index) - n_neg), replace = False)\n",
    "    label[disable_index] = -1"
   ]
  },
  {
   "cell_type": "markdown",
   "metadata": {
    "lines_to_next_cell": 0,
    "region_name": "md"
   },
   "source": [
    "`2.6 - Parameterization`\n",
    "\n",
    "> $\n",
    "t_{x} = (x - x_{a})/w_{a} \\\\\n",
    "t_{y} = (y - y_{a})/h_{a} \\\\\n",
    "t_{w} = log(w/ w_a) \\\\\n",
    "t_{h} = log(h/ h_a) \\\\\n",
    "$\n",
    "\n",
    "> $x, y , w, h$ are the groud truth box center co-ordinates which has maxmimum iou with corresponding\n",
    "anchor, width and height. $x_a, y_a, h_a, w_a$ are anchor boxes center cooridinates, width and height."
   ]
  },
  {
   "cell_type": "code",
   "execution_count": 91,
   "metadata": {},
   "outputs": [],
   "source": [
    "# For each anchor box, find the ground-truth object which has max_iou as base\n",
    "max_iou_bbox = bbox[argmax_ious]\n",
    "\n",
    "# valid anchors height, width and center\n",
    "height = valid_anchors[:, 2] - valid_anchors[:, 0]\n",
    "width = valid_anchors[:, 3] - valid_anchors[:, 1]\n",
    "ctr_y = valid_anchors[:, 0] + 0.5 * height\n",
    "ctr_x = valid_anchors[:, 1] + 0.5 * width\n",
    "\n",
    "# maximum iou bbox associate with each anchor height, width and center\n",
    "base_height = max_iou_bbox[:, 2] - max_iou_bbox[:, 0]\n",
    "base_width = max_iou_bbox[:, 3] - max_iou_bbox[:, 1]\n",
    "base_ctr_y = max_iou_bbox[:, 0] + 0.5 * base_height\n",
    "base_ctr_x = max_iou_bbox[:, 1] + 0.5 * base_width\n",
    "\n",
    "# Use the above formulas to find the loc\n",
    "eps = np.finfo(height.dtype).eps # minimum delta\n",
    "height = np.maximum(height, eps)\n",
    "width = np.maximum(width, eps)\n",
    "\n",
    "dy = (base_ctr_y - ctr_y) / height\n",
    "dx = (base_ctr_x - ctr_x) / width\n",
    "dh = np.log(base_height / height)\n",
    "dw = np.log(base_width / width)\n",
    "\n",
    "# Anchors locs\n",
    "anchor_locs = np.vstack((dy, dx, dh, dw)).transpose()"
   ]
  },
  {
   "cell_type": "markdown",
   "metadata": {
    "lines_to_next_cell": 0,
    "region_name": "md"
   },
   "source": [
    "`2.7 - RPN targets`"
   ]
  },
  {
   "cell_type": "code",
   "execution_count": 92,
   "metadata": {},
   "outputs": [
    {
     "name": "stdout",
     "output_type": "stream",
     "text": [
      "anchor_locations [N,4]: (22500, 4) \n",
      " -------------------- \n",
      " [[ 0.203125    1.5078125   1.08814099  1.30070243]\n",
      " [-0.91702911  2.13236889  0.7415674   1.64727602]\n",
      " [-3.421875    1.5078125   1.08814099  1.30070243]\n",
      " ...\n",
      " [-2.59640771 -4.93869892  0.7415674   1.64727602]\n",
      " [-0.046875   -3.6171875   1.08814099  1.30070243]\n",
      " [-0.56347572 -5.11547562  0.7415674   1.64727602]]\n",
      "\n",
      "anchor_labels [N,]: (22500,) \n",
      " -------------------- \n",
      " [0 0 0 0 0 0 0 0 0 0 0 0 0 0 0 0 0 0 0 0 0 0 0 0 0 0 0 0 0 0 0 0 0 0 0 0 0\n",
      " 0 0 0 0 0 0 0 0 0 0 0 0 0 0 0 0 0 0 0 0 0 0 0 0 0 0 0 0 0 1 0 0 0 0 0 0 0\n",
      " 0 0 1 0 0 0 0 0 0 0 0 0 0 0 0 0 0 0 0 0 0 0 0 0 0 0 0 0 0 0 0 0 0 0 0 0 0\n",
      " 0 0 0 0 0 0 0 0 0 0 0 0 0 0 0 0 0 0 0 0 0 0 0 0 0 0 0 0 0 0 0 0 0 0 0 0 0\n",
      " 0 0 0 0 0 0 0 1 1 1 1 0 0 0 0 1 1 1 1 0 0 0 0 0 1 1 1 1 0 0 0 0 0 0 0 1 1\n",
      " 1 1 0 0 0 0 0 0 0 0 0 0 0 0 0 0 0 0 0 0 0 0 0 0 0 0 0 0 0 0 0 0 0 0 0 0 0\n",
      " 0 0 0 0 0 0 0 0 0 0 0 0 0 0 0 0 0 0 0 0 0 0 0 0 0 0 0 0 0 0 0 0 0 0]\n"
     ]
    }
   ],
   "source": [
    "# Anchors labels\n",
    "anchor_labels = np.empty((len(anchors),), dtype=label.dtype)\n",
    "anchor_labels.fill(-1)\n",
    "anchor_labels[inside_index] = label\n",
    "\n",
    "# Anchors locations\n",
    "anchor_locations = np.empty((len(anchors),) + anchors.shape[1:], dtype=anchor_locs.dtype)\n",
    "anchor_locations.fill(0)\n",
    "anchor_locations[inside_index, :] = anchor_locs\n",
    "\n",
    "print('anchor_locations [N,4]:', anchor_locations.shape, '\\n', '-'*20, '\\n', anchor_locations[np.where(anchor_labels >=0)[0]])\n",
    "print('\\nanchor_labels [N,]:', anchor_labels.shape, '\\n', '-'*20, '\\n', anchor_labels[np.where(anchor_labels >=0)[0]])"
   ]
  },
  {
   "cell_type": "markdown",
   "metadata": {
    "lines_to_next_cell": 0,
    "region_name": "md",
    "title": "##########################################"
   },
   "source": [
    " # 3. Region Proposal Network"
   ]
  },
  {
   "cell_type": "code",
   "execution_count": 93,
   "metadata": {
    "title": "###############################################"
   },
   "outputs": [],
   "source": [
    "# define layers\n",
    "mid_channels = 512\n",
    "in_channels = 512 # depends on the output feature map\n",
    "n_anchor = 9 # Number of anchors at each location\n",
    "conv1 = torch.nn.Conv2d(in_channels, mid_channels, 3, 1, 1)\n",
    "reg_layer = torch.nn.Conv2d(mid_channels, n_anchor *4, 1, 1, 0)\n",
    "cls_layer = torch.nn.Conv2d(mid_channels, n_anchor *2, 1, 1, 0)"
   ]
  },
  {
   "cell_type": "code",
   "execution_count": 94,
   "metadata": {},
   "outputs": [
    {
     "data": {
      "text/plain": [
       "tensor([0., 0., 0., 0., 0., 0., 0., 0., 0., 0., 0., 0., 0., 0., 0., 0., 0., 0.])"
      ]
     },
     "execution_count": 94,
     "metadata": {},
     "output_type": "execute_result"
    }
   ],
   "source": [
    "# Layers initialization\n",
    "# conv sliding layer\n",
    "conv1.weight.data.normal_(0, 0.01)\n",
    "conv1.bias.data.zero_()\n",
    "\n",
    "# Regression layer\n",
    "reg_layer.weight.data.normal_(0, 0.01)\n",
    "reg_layer.bias.data.zero_()\n",
    "\n",
    "# classification layer\n",
    "cls_layer.weight.data.normal_(0, 0.01)\n",
    "cls_layer.bias.data.zero_()"
   ]
  },
  {
   "cell_type": "code",
   "execution_count": 95,
   "metadata": {},
   "outputs": [],
   "source": [
    "# RPN Prediction\n",
    "x = conv1(out_map)\n",
    "pred_anchor_locs = reg_layer(x)\n",
    "pred_cls_scores = cls_layer(x)"
   ]
  },
  {
   "cell_type": "code",
   "execution_count": 96,
   "metadata": {},
   "outputs": [
    {
     "name": "stdout",
     "output_type": "stream",
     "text": [
      "objectness_score: torch.Size([1, 22500])\n",
      "pred_cls_scores: torch.Size([1, 22500, 2])\n"
     ]
    }
   ],
   "source": [
    "# format pred_anchor_locs\n",
    "pred_anchor_locs = pred_anchor_locs.permute(0, 2, 3, 1).contiguous().view(1, -1, 4)\n",
    "\n",
    "# format pred_cls_scores\n",
    "pred_cls_scores = pred_cls_scores.permute(0, 2, 3, 1).contiguous()\n",
    "\n",
    "# objectness score *\n",
    "objectness_score = pred_cls_scores.view(1, 50, 50, 9, 2)[:, :, :, :, 1].contiguous().view(1, -1)\n",
    "print('objectness_score:', objectness_score.shape)\n",
    "\n",
    "# pred_cls_scores *\n",
    "pred_cls_scores  = pred_cls_scores.view(1, -1, 2)\n",
    "print('pred_cls_scores:', pred_cls_scores.shape)"
   ]
  },
  {
   "cell_type": "markdown",
   "metadata": {
    "lines_to_next_cell": 0,
    "region_name": "md",
    "title": "##########################################"
   },
   "source": [
    "`3.1 - RoI Network`"
   ]
  },
  {
   "cell_type": "code",
   "execution_count": 97,
   "metadata": {
    "title": "###############################################"
   },
   "outputs": [],
   "source": [
    "nms_thresh = 0.7 # non-maxmimum supression threshold\n",
    "n_train_pre_nms = 12000 # number of bboxes before nms during training\n",
    "n_train_post_nms = 2000 # number of bboxes after nms during training\n",
    "n_test_pre_nms = 6000 # number of bboxes before nms during testing\n",
    "n_test_post_nms = 300 # number of bboxes after nms during testing\n",
    "min_size = 16 # minimum height of the object required to create a proposal."
   ]
  },
  {
   "cell_type": "markdown",
   "metadata": {
    "lines_to_next_cell": 0,
    "region_name": "md"
   },
   "source": [
    "> Reverse parameterezation.\n",
    "\n",
    "> $\n",
    "x = (w_{a} * ctr\\_x_{p}) + ctr\\_x_{a} \\\\\n",
    "y = (h_{a} * ctr\\_x_{p}) + ctr\\_x_{a} \\\\\n",
    "h = np.exp(h_{p}) \\times h_{a} \\\\\n",
    "w = np.exp(w_{p}) \\times w_{a} \\\\\n",
    "$"
   ]
  },
  {
   "cell_type": "code",
   "execution_count": 98,
   "metadata": {},
   "outputs": [
    {
     "name": "stdout",
     "output_type": "stream",
     "text": [
      "ROIs before nms: (12000, 4)\n"
     ]
    }
   ],
   "source": [
    "# Convert anchors format from y1, x1, y2, x2 to ctr_x, ctr_y, h, w\n",
    "anc_height = anchors[:, 2] - anchors[:, 0]\n",
    "anc_width = anchors[:, 3] - anchors[:, 1]\n",
    "anc_ctr_y = anchors[:, 0] + 0.5 * anc_height\n",
    "anc_ctr_x = anchors[:, 1] + 0.5 * anc_width\n",
    "\n",
    "# convert pred_achor_locs and abjectness_score to numpy\n",
    "pred_anchor_locs_numpy = pred_anchor_locs[0].data.numpy()\n",
    "objectness_score_numpy = objectness_score[0].data.numpy()\n",
    "\n",
    "dy = pred_anchor_locs_numpy[:, 0::4]\n",
    "dx = pred_anchor_locs_numpy[:, 1::4]\n",
    "dh = pred_anchor_locs_numpy[:, 2::4]\n",
    "dw = pred_anchor_locs_numpy[:, 3::4]\n",
    "\n",
    "ctr_y = dy * anc_height[:, np.newaxis] + anc_ctr_y[:, np.newaxis]\n",
    "ctr_x = dx * anc_width[:, np.newaxis] + anc_ctr_x[:, np.newaxis]\n",
    "h = np.exp(dh) * anc_height[:, np.newaxis]\n",
    "w = np.exp(dw) * anc_width[:, np.newaxis]\n",
    "\n",
    "# convert [ctr_x, ctr_y, h, w] to [y1, x1, y2, x2] format\n",
    "roi = np.zeros(pred_anchor_locs_numpy.shape, dtype=anchor_locs.dtype)\n",
    "roi[:, 0::4] = ctr_y - 0.5 * h\n",
    "roi[:, 1::4] = ctr_x - 0.5 * w\n",
    "roi[:, 2::4] = ctr_y + 0.5 * h\n",
    "roi[:, 3::4] = ctr_x + 0.5 * w\n",
    "\n",
    "\n",
    "# clip the predicted boxes to the image\n",
    "img_size = (800, 800) # Image size\n",
    "roi[:, slice(0, 4, 2)] = np.clip(roi[:, slice(0, 4, 2)], 0, img_size[0])\n",
    "roi[:, slice(1, 4, 2)] = np.clip(roi[:, slice(1, 4, 2)], 0, img_size[1])\n",
    "\n",
    "# Remove predicted boxes with either height or width < threshold\n",
    "hs = roi[:, 2] - roi[:, 0]\n",
    "ws = roi[:, 3] - roi[:, 1]\n",
    "keep = np.where((hs >= min_size) & (ws >= min_size))[0]\n",
    "roi = roi[keep, :]\n",
    "scores = objectness_score_numpy[keep]\n",
    "\n",
    "# Sort all (proposal, score) pairs by score from highest to lowest\n",
    "ordered_scores = scores.ravel().argsort()[::-1]\n",
    "\n",
    "# Take top pre_nms_topN (e.g. 12000 while training and 300 while testing, use accordingly)\n",
    "ordered_scores = ordered_scores[:n_train_pre_nms]\n",
    "roi = roi[ordered_scores, :]\n",
    "print('ROIs before nms:', roi.shape)"
   ]
  },
  {
   "cell_type": "markdown",
   "metadata": {},
   "source": [
    "`3.2 - Non-Maximun supression`"
   ]
  },
  {
   "cell_type": "code",
   "execution_count": 99,
   "metadata": {},
   "outputs": [],
   "source": [
    "y1 = roi[:, 0]\n",
    "x1 = roi[:, 1]\n",
    "y2 = roi[:, 2]\n",
    "x2 = roi[:, 3]\n",
    "\n",
    "areas = (x2 - x1 + 1) * (y2 - y1 + 1)\n",
    "order = ordered_scores.argsort()[::-1]\n",
    "\n",
    "keep = []\n",
    "\n",
    "while order.size > 0:\n",
    "    i = order[0]\n",
    "    keep.append(i)\n",
    "    xx1 = np.maximum(x1[i], x1[order[1:]])\n",
    "    yy1 = np.maximum(y1[i], y1[order[1:]])\n",
    "    xx2 = np.minimum(x2[i], x2[order[1:]])\n",
    "    yy2 = np.minimum(y2[i], y2[order[1:]])\n",
    "\n",
    "    w = np.maximum(0.0, xx2 - xx1 + 1)\n",
    "    h = np.maximum(0.0, yy2 - yy1 + 1)\n",
    "    inter = w * h\n",
    "    ovr = inter / (areas[i] + areas[order[1:]] - inter)\n",
    "\n",
    "    inds = np.where(ovr <= nms_thresh)[0]\n",
    "    order = order[inds + 1]"
   ]
  },
  {
   "cell_type": "code",
   "execution_count": 100,
   "metadata": {},
   "outputs": [
    {
     "name": "stdout",
     "output_type": "stream",
     "text": [
      "ROI after nms: (1909, 4)\n"
     ]
    }
   ],
   "source": [
    "# Final region proposals (Training/Test, use accordingly)\n",
    "keep = keep[:n_train_post_nms]\n",
    "roi = roi[keep]\n",
    "print('ROI after nms:', roi.shape)"
   ]
  },
  {
   "cell_type": "markdown",
   "metadata": {
    "lines_to_next_cell": 0,
    "region_name": "md",
    "title": "##########################################"
   },
   "source": [
    "`3.3 - Proposal targets`"
   ]
  },
  {
   "cell_type": "code",
   "execution_count": 101,
   "metadata": {
    "title": "###############################################"
   },
   "outputs": [],
   "source": [
    "n_samples = 128 # Number of samples to sample from roi\n",
    "pos_ratio = 0.25 # the number of positive examples out of the n_samples\n",
    "pos_iou_thresh = 0.5 #  The minimum overlap of region proposal with any groundtruth\n",
    "neg_iou_thresh_hi = 0.5 # The overlap value bounding required to consider a region proposal as negative\n",
    "neg_iou_thresh_lo = 0.0 # The overlap value bounding required to consider a region proposal as background"
   ]
  },
  {
   "cell_type": "code",
   "execution_count": 102,
   "metadata": {},
   "outputs": [],
   "source": [
    "# Find the iou of each ground truth object with the region proposals\n",
    "ious = np.empty((len(roi), 2), dtype=np.float32)\n",
    "ious.fill(0)\n",
    "for num1, i in enumerate(roi):\n",
    "    ya1, xa1, ya2, xa2 = i\n",
    "    anchor_area = (ya2 - ya1) * (xa2 - xa1)\n",
    "    for num2, j in enumerate(bbox):\n",
    "        yb1, xb1, yb2, xb2 = j\n",
    "        box_area = (yb2 - yb1) * (xb2 - xb1)\n",
    "\n",
    "        inter_x1 = max([xb1, xa1])\n",
    "        inter_y1 = max([yb1, ya1])\n",
    "        inter_x2 = min([xb2, xa2])\n",
    "        inter_y2 = min([yb2, ya2])\n",
    "\n",
    "        if (inter_x1 < inter_x2) and (inter_y1 < inter_y2):\n",
    "            iter_area = (inter_y2 - inter_y1) * (inter_x2 - inter_x1)\n",
    "            iou = iter_area / (anchor_area + box_area - iter_area)\n",
    "        else:\n",
    "            iou = 0.\n",
    "        ious[num1, num2] = iou"
   ]
  },
  {
   "cell_type": "code",
   "execution_count": 103,
   "metadata": {},
   "outputs": [
    {
     "name": "stdout",
     "output_type": "stream",
     "text": [
      "sample_roi:  (128, 4) \n",
      " -------------------- \n",
      " [[159.43249416 108.03255844 665.37573147 619.26052475]\n",
      " [536.18372998  56.59150404 664.5914906  184.04020399]\n",
      " [589.07681141   0.         763.15898922 201.23316859]\n",
      " [184.18372998 200.59150404 312.5914906  328.04020399]\n",
      " [552.18372998 424.59150404 680.5914906  552.04020399]] \n",
      "\n",
      "gt_roi_locs:  (128, 4) \n",
      " -------------------- \n",
      " [[-0.40005301 -0.19295999 -0.28625323 -0.08408291]\n",
      " [-3.0402182   1.13523438  1.08496042  1.30501876]\n",
      " [-2.67757393  0.81688032  0.78064378  0.84826842]\n",
      " [-0.29895086  0.00536801  1.08496042  1.30501876]\n",
      " [-3.16482126 -1.7522019   1.08496042  1.30501876]] \n",
      "\n",
      "gt_roi_labels:  (128,) \n",
      " -------------------- \n",
      " [8 6 6 8 6 6 6 6 6 8 6 6 6 6 6 6 6 6 8 8 6 6 6 0 0 0 0 0 0 0 0 0 0 0 0 0 0\n",
      " 0 0 0 0 0 0 0 0 0 0 0 0 0 0 0 0 0 0 0 0 0 0 0 0 0 0 0 0 0 0 0 0 0 0 0 0 0\n",
      " 0 0 0 0 0 0 0 0 0 0 0 0 0 0 0 0 0 0 0 0 0 0 0 0 0 0 0 0 0 0 0 0 0 0 0 0 0\n",
      " 0 0 0 0 0 0 0 0 0 0 0 0 0 0 0 0 0]\n"
     ]
    }
   ],
   "source": [
    "# Find out which ground truth has high IoU for each region proposal, Also find the maximum IoU\n",
    "gt_assignment = ious.argmax(axis=1)\n",
    "max_ious = ious.max(axis=1)\n",
    "\n",
    "# Assign the labels to each proposal\n",
    "gt_roi_label = labels[gt_assignment]\n",
    "\n",
    "# Select the foreground rois as per the pos_iou_thesh\n",
    "pos_index = np.where(max_ious >= pos_iou_thresh)[0]\n",
    "pos_roi_per_this_image = int(n_samples * pos_ratio)\n",
    "pos_roi_per_this_image = int(min(pos_roi_per_this_image, pos_index.size))\n",
    "if pos_index.size > 0:\n",
    "    pos_index = np.random.choice(pos_index, size=pos_roi_per_this_image, replace=False)\n",
    "\n",
    "# Similarly we do for negitive (background) region proposals\n",
    "neg_index = np.where((max_ious < neg_iou_thresh_hi) & (max_ious >= neg_iou_thresh_lo))[0]\n",
    "neg_roi_per_this_image = n_samples - pos_roi_per_this_image\n",
    "neg_roi_per_this_image = int(min(neg_roi_per_this_image, neg_index.size))\n",
    "if neg_index.size > 0:\n",
    "    neg_index = np.random.choice(neg_index, size=neg_roi_per_this_image, replace=False)\n",
    "\n",
    "# gather positve samples index and negative samples\n",
    "keep_index = np.append(pos_index, neg_index)\n",
    "gt_roi_labels = gt_roi_label[keep_index]\n",
    "gt_roi_labels[pos_roi_per_this_image:] = 0  # negative labels --> 0\n",
    "sample_roi = roi[keep_index]\n",
    "\n",
    "# Pick the ground truth objects for these sample_roi\n",
    "bbox_for_sampled_roi = bbox[gt_assignment[keep_index]]\n",
    "\n",
    "height = sample_roi[:, 2] - sample_roi[:, 0]\n",
    "width = sample_roi[:, 3] - sample_roi[:, 1]\n",
    "ctr_y = sample_roi[:, 0] + 0.5 * height\n",
    "ctr_x = sample_roi[:, 1] + 0.5 * width\n",
    "base_height = bbox_for_sampled_roi[:, 2] - bbox_for_sampled_roi[:, 0]\n",
    "base_width = bbox_for_sampled_roi[:, 3] - bbox_for_sampled_roi[:, 1]\n",
    "base_ctr_y = (bbox_for_sampled_roi[:, 0] + 0.5 * base_height)\n",
    "base_ctr_x = (bbox_for_sampled_roi[:, 1] + 0.5 * base_width)\n",
    "\n",
    "# Parameterize it\n",
    "eps = np.finfo(height.dtype).eps\n",
    "height = np.maximum(height, eps)\n",
    "width = np.maximum(width, eps)\n",
    "dy = (base_ctr_y - ctr_y) / height\n",
    "dx = (base_ctr_x - ctr_x) / width\n",
    "dh = np.log(base_height / height)\n",
    "dw = np.log(base_width / width)\n",
    "gt_roi_locs = np.vstack((dy, dx, dh, dw)).transpose()\n",
    "\n",
    "print('sample_roi: ', sample_roi.shape, '\\n', '-'*20, '\\n', sample_roi[-5:], '\\n')\n",
    "print('gt_roi_locs: ', gt_roi_locs.shape, '\\n', '-'*20, '\\n', gt_roi_locs[-5:], '\\n')\n",
    "print('gt_roi_labels: ', gt_roi_labels.shape, '\\n', '-'*20, '\\n', gt_roi_labels)"
   ]
  },
  {
   "cell_type": "markdown",
   "metadata": {
    "lines_to_next_cell": 0,
    "region_name": "md",
    "title": "##########################################"
   },
   "source": [
    "# 4. Fast R-CNN"
   ]
  },
  {
   "cell_type": "code",
   "execution_count": 104,
   "metadata": {
    "title": "###############################################"
   },
   "outputs": [
    {
     "name": "stdout",
     "output_type": "stream",
     "text": [
      "torch.Size([128, 4]) torch.Size([128])\n",
      "torch.Size([128, 5])\n"
     ]
    }
   ],
   "source": [
    "# Create ROI indices tensor PyTorch\n",
    "rois = torch.from_numpy(sample_roi).float()\n",
    "roi_indices = 0 * np.ones((len(rois),), dtype=np.int32) # on this example just one image\n",
    "roi_indices = torch.from_numpy(roi_indices).float()\n",
    "print(rois.shape, roi_indices.shape)\n",
    "\n",
    "# Concatenate rois and roi_indices [N,5]\n",
    "indices_and_rois = torch.cat([roi_indices[:, None], rois], dim=1)\n",
    "xy_indices_and_rois = indices_and_rois[:, [0, 2, 1, 4, 3]]\n",
    "indices_and_rois = xy_indices_and_rois.contiguous()\n",
    "print(xy_indices_and_rois.shape)"
   ]
  },
  {
   "cell_type": "code",
   "execution_count": 105,
   "metadata": {},
   "outputs": [
    {
     "name": "stdout",
     "output_type": "stream",
     "text": [
      "128\n"
     ]
    }
   ],
   "source": [
    "# Define adaptive_max_pool\n",
    "size = 7  # max pool 7x7\n",
    "adaptive_max_pool = torch.nn.AdaptiveMaxPool2d(size)\n",
    "output = []\n",
    "rois = indices_and_rois.data.float()\n",
    "rois[:, 1:].mul_(1 / 16.0)  # Subsampling ratio skipping the index\n",
    "rois = rois.long()\n",
    "num_rois = rois.size(0)\n",
    "print(num_rois)"
   ]
  },
  {
   "cell_type": "code",
   "execution_count": 106,
   "metadata": {
    "lines_to_next_cell": 0
   },
   "outputs": [
    {
     "name": "stdout",
     "output_type": "stream",
     "text": [
      "adaptative_max_poll: torch.Size([128, 512, 7, 7])\n"
     ]
    }
   ],
   "source": [
    "for i in range(num_rois):\n",
    "    roi = rois[i]\n",
    "    im_idx = roi[0]\n",
    "    im = out_map.narrow(0, im_idx, 1)[..., roi[2]:(roi[4] + 1), roi[1]:(roi[3] + 1)]\n",
    "    output.append(adaptive_max_pool(im))\n",
    "output = torch.cat(output, 0)\n",
    "\n",
    "# Reshape the tensor so that we can pass it through the feed forward layer.\n",
    "k = output.view(output.size(0), -1)\n",
    "print('adaptative_max_poll:' , output.shape)"
   ]
  },
  {
   "cell_type": "code",
   "execution_count": 107,
   "metadata": {},
   "outputs": [
    {
     "name": "stdout",
     "output_type": "stream",
     "text": [
      "roi_cls_loc: torch.Size([128, 84]) \n",
      "roi_cls_score: torch.Size([128, 21])\n"
     ]
    }
   ],
   "source": [
    "# Define the classifier and regression networks\n",
    "roi_head_classifier = torch.nn.Sequential(*[torch.nn.Linear(25088, 4096), torch.nn.Linear(4096, 4096)])\n",
    "cls_loc = torch.nn.Linear(4096, 21 * 4)  # (VOC 20 classes + 1 background. Each will have 4 co-ordinates)\n",
    "cls_loc.weight.data.normal_(0, 0.01)\n",
    "cls_loc.bias.data.zero_()\n",
    "score = torch.nn.Linear(4096, 21)  # (VOC 20 classes + 1 background)\n",
    "\n",
    "k = roi_head_classifier(k)\n",
    "roi_cls_loc = cls_loc(k)\n",
    "roi_cls_score = score(k)\n",
    "\n",
    "print('roi_cls_loc:', roi_cls_loc.shape, '\\nroi_cls_score:', roi_cls_score.shape)"
   ]
  },
  {
   "cell_type": "markdown",
   "metadata": {
    "lines_to_next_cell": 0,
    "region_name": "md",
    "title": "##########################################"
   },
   "source": [
    "# 5. RPN Loss"
   ]
  },
  {
   "cell_type": "code",
   "execution_count": 108,
   "metadata": {
    "title": "###############################################"
   },
   "outputs": [
    {
     "name": "stdout",
     "output_type": "stream",
     "text": [
      "rpn_loc: torch.Size([22500, 4])\n",
      "rpn_score: torch.Size([22500, 2])\n",
      "gt_rpn_loc: torch.Size([22500, 4])\n",
      "gt_rpn_score: torch.Size([22500])\n"
     ]
    }
   ],
   "source": [
    "# From RPN\n",
    "rpn_loc = pred_anchor_locs[0]\n",
    "rpn_score = pred_cls_scores[0]\n",
    "gt_rpn_loc = torch.from_numpy(anchor_locations)\n",
    "gt_rpn_score = torch.from_numpy(anchor_labels)\n",
    "\n",
    "print('rpn_loc:', rpn_loc.shape)\n",
    "print('rpn_score:', rpn_score.shape)\n",
    "print('gt_rpn_loc:', gt_rpn_loc.shape)\n",
    "print('gt_rpn_score:', gt_rpn_score.shape)"
   ]
  },
  {
   "cell_type": "code",
   "execution_count": 109,
   "metadata": {},
   "outputs": [
    {
     "name": "stdout",
     "output_type": "stream",
     "text": [
      "rpn_cls_loss: tensor(0.6915, grad_fn=<NllLossBackward>)\n"
     ]
    }
   ],
   "source": [
    "# Cross-entropy classification loss\n",
    "rpn_cls_loss = F.cross_entropy(rpn_score, gt_rpn_score.long(), ignore_index=-1)\n",
    "print('rpn_cls_loss:', rpn_cls_loss)"
   ]
  },
  {
   "cell_type": "code",
   "execution_count": 110,
   "metadata": {},
   "outputs": [
    {
     "name": "stdout",
     "output_type": "stream",
     "text": [
      "rpn_loc_loss tensor(1.1315, dtype=torch.float64, grad_fn=<SumBackward0>)\n"
     ]
    }
   ],
   "source": [
    "# Smooth L1 loss regression loss\n",
    "pos = gt_rpn_score > 0\n",
    "mask = pos.unsqueeze(1).expand_as(rpn_loc)\n",
    "\n",
    "# take positive labeled boxes\n",
    "mask_loc_preds = rpn_loc[mask].view(-1, 4)\n",
    "mask_loc_targets = gt_rpn_loc[mask].view(-1, 4)\n",
    "\n",
    "# regression loss\n",
    "x = torch.abs(mask_loc_targets - mask_loc_preds)\n",
    "rpn_loc_loss = ((x < 1).float() * 0.5 * x**2) + ((x >= 1).float() * (x-0.5))\n",
    "print('rpn_loc_loss', rpn_loc_loss.sum())"
   ]
  },
  {
   "cell_type": "code",
   "execution_count": 111,
   "metadata": {},
   "outputs": [
    {
     "name": "stdout",
     "output_type": "stream",
     "text": [
      "rpn_loss: tensor(1.3201, dtype=torch.float64, grad_fn=<AddBackward0>)\n"
     ]
    }
   ],
   "source": [
    "# RPN Loss\n",
    "rpn_lambda = 10.\n",
    "N_reg = (gt_rpn_score > 0).float().sum()\n",
    "rpn_loc_loss = rpn_loc_loss.sum() / N_reg\n",
    "rpn_loss = rpn_cls_loss + (rpn_lambda * rpn_loc_loss)\n",
    "print('rpn_loss:', rpn_loss)"
   ]
  },
  {
   "cell_type": "markdown",
   "metadata": {
    "lines_to_next_cell": 0,
    "region_name": "md",
    "title": "##########################################"
   },
   "source": [
    "# 6. Fast R-CNN Loss"
   ]
  },
  {
   "cell_type": "code",
   "execution_count": 112,
   "metadata": {
    "title": "###############################################"
   },
   "outputs": [
    {
     "name": "stdout",
     "output_type": "stream",
     "text": [
      "roi_cls_loc: torch.Size([128, 84])\n",
      "roi_cls_score: torch.Size([128, 21])\n",
      "gt_roi_loc: torch.Size([128, 4])\n",
      "gt_roi_label: torch.Size([128])\n"
     ]
    }
   ],
   "source": [
    "gt_roi_loc = torch.from_numpy(gt_roi_locs)\n",
    "gt_roi_label = torch.from_numpy(np.float32(gt_roi_labels)).long()\n",
    "\n",
    "print('roi_cls_loc:', roi_cls_loc.shape)\n",
    "print('roi_cls_score:', roi_cls_score.shape)\n",
    "print('gt_roi_loc:', gt_roi_loc.shape)\n",
    "print('gt_roi_label:', gt_roi_label.shape)"
   ]
  },
  {
   "cell_type": "code",
   "execution_count": 113,
   "metadata": {},
   "outputs": [
    {
     "name": "stdout",
     "output_type": "stream",
     "text": [
      "roi_cls_loss: tensor(3.0479, grad_fn=<NllLossBackward>)\n"
     ]
    }
   ],
   "source": [
    "# Classification loss\n",
    "roi_cls_loss = F.cross_entropy(roi_cls_score, gt_roi_label, ignore_index=-1)\n",
    "print('roi_cls_loss:', roi_cls_loss)"
   ]
  },
  {
   "cell_type": "code",
   "execution_count": 114,
   "metadata": {},
   "outputs": [
    {
     "name": "stdout",
     "output_type": "stream",
     "text": [
      "roi_loc_loss: tensor(2.0712, dtype=torch.float64, grad_fn=<SumBackward0>)\n"
     ]
    }
   ],
   "source": [
    "# Regression loss\n",
    "n_sample = roi_cls_loc.shape[0]\n",
    "roi_loc = roi_cls_loc.view(n_sample, -1, 4)\n",
    "\n",
    "# take positive labeled boxes\n",
    "roi_loc = roi_loc[torch.arange(0, n_sample).long(), gt_roi_label]\n",
    "mask = gt_roi_label>0\n",
    "mask_loc_preds = roi_loc[mask].view(-1, 4)\n",
    "mask_loc_targets = gt_roi_loc[mask].view(-1, 4)\n",
    "\n",
    "x = torch.abs(mask_loc_preds - mask_loc_targets)\n",
    "roi_loc_loss = (x<1).float()*0.5*x**2 + (x>=1).float()*(x-0.5)\n",
    "roi_loc_loss = roi_loc_loss\n",
    "print('roi_loc_loss:', roi_loc_loss.sum())"
   ]
  },
  {
   "cell_type": "code",
   "execution_count": 115,
   "metadata": {
    "title": "Total RoI Loss"
   },
   "outputs": [
    {
     "name": "stdout",
     "output_type": "stream",
     "text": [
      "roi_loss: tensor(3.9485, dtype=torch.float64, grad_fn=<AddBackward0>)\n"
     ]
    }
   ],
   "source": [
    "roi_lambda = 10.\n",
    "N_reg = (gt_roi_label>0).float().sum()\n",
    "roi_loc_loss = roi_loc_loss.sum() / N_reg\n",
    "roi_loss = roi_cls_loss + roi_lambda * roi_loc_loss\n",
    "print('roi_loss:', roi_loss)"
   ]
  },
  {
   "cell_type": "markdown",
   "metadata": {
    "lines_to_next_cell": 0,
    "region_name": "md",
    "title": "##########################################"
   },
   "source": [
    "# Total Loss"
   ]
  },
  {
   "cell_type": "code",
   "execution_count": 116,
   "metadata": {
    "title": "###############################################"
   },
   "outputs": [
    {
     "name": "stdout",
     "output_type": "stream",
     "text": [
      "total_loss: tensor(5.2685, dtype=torch.float64, grad_fn=<AddBackward0>)\n"
     ]
    }
   ],
   "source": [
    "total_loss = rpn_loss + roi_loss\n",
    "print('total_loss:', total_loss)"
   ]
  }
 ],
 "metadata": {
  "jupytext": {
   "cell_metadata_filter": "region_name,title,-all",
   "formats": "ipynb,py:hydrogen",
   "main_language": "python",
   "notebook_metadata_filter": "-all"
  },
  "kernelspec": {
   "display_name": "Python 3",
   "language": "python",
   "name": "python3"
  },
  "language_info": {
   "codemirror_mode": {
    "name": "ipython",
    "version": 3
   },
   "file_extension": ".py",
   "mimetype": "text/x-python",
   "name": "python",
   "nbconvert_exporter": "python",
   "pygments_lexer": "ipython3",
   "version": "3.8.2"
  }
 },
 "nbformat": 4,
 "nbformat_minor": 4
}
